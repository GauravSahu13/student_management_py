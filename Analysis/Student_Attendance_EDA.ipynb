{
 "cells": [
  {
   "cell_type": "code",
   "execution_count": 124,
   "id": "2492de76",
   "metadata": {},
   "outputs": [],
   "source": [
    "import pandas as pd\n",
    "import matplotlib.pyplot as plt \n",
    "import numpy as np"
   ]
  },
  {
   "cell_type": "markdown",
   "id": "d7814413",
   "metadata": {},
   "source": [
    "# Educational Yearwise Defaulter"
   ]
  },
  {
   "cell_type": "code",
   "execution_count": 125,
   "id": "fd2947d3",
   "metadata": {},
   "outputs": [
    {
     "name": "stdout",
     "output_type": "stream",
     "text": [
      "Enter year of Student :1\n",
      "Branch is EXTC\n"
     ]
    }
   ],
   "source": [
    "def educationyearwise_branch_data(student_df,branch_name, year_no ):\n",
    "    ''' NaN to Zero '''\n",
    "    student_df = student_df.fillna(0)\n",
    "\n",
    "\n",
    "    ''' Filtering Data on basis of Branch and Edu_Year'''\n",
    "\n",
    "    # selecting rows based on condition\n",
    "    year_df = student_df.loc[(student_df['Year'] == int(year_no)) & student_df['Branch']]\n",
    "    year_df = year_df.loc[:, (year_df != 0).any(axis=0)]\n",
    "    year_df = year_df.loc[(year_df['Branch'] == branch_name)]    \n",
    "    return  year_df\n",
    "\n",
    "student_df = pd.read_csv('E:/FYND/Final Project/Data Creation/student.csv')  \n",
    "\n",
    "year_no = int(input(\"Enter year of Student :\"))\n",
    "branch_name = 'EXTC'\n",
    "\n",
    "if year_no == 1:\n",
    "    year_df  = educationyearwise_branch_data(student_df,branch_name, year_no )\n",
    "    year_df = year_df.groupby(['Name','Enrolled_ID','Year']).agg(M1= ('M1','sum'),CP= ('CP','sum'),\n",
    "                                                          BEE= ('BEE','sum'),Lec_Attended_Percentage= ('Lec_Attended(%)','mean')).reset_index()\n",
    "\n",
    "elif year_no == 2:\n",
    "    year_df  = educationyearwise_branch_data(student_df,branch_name, year_no )\n",
    "    year_df = year_df.groupby(['Name','Enrolled_ID','Year']).agg(VSLI= ('VSLI','sum'),EV= ('EV','sum'),\n",
    "                                                          Robotics= ('Robotics','sum'),Lec_Attended_Percentage= ('Lec_Attended_Percentage','mean')).reset_index()\n",
    "\n",
    "elif year_no == 3:\n",
    "    year_df  = educationyearwise_branch_data(student_df,branch_name, year_no )\n",
    "    year_df = year_df.groupby(['Name','Enrolled_ID','Year']).agg(SAP= ('SAP','sum'),MBS= ('MBS','sum'),PLE= ('PLE','sum'),\n",
    "                                                          Lec_Attended_Percentage= ('Lec_Attended_Percentage','mean')).reset_index()\n",
    "    \n",
    "elif year_no == 4:\n",
    "    year_df  = educationyearwise_branch_data(student_df,branch_name, year_no )\n",
    "    year_df = year_df.groupby(['Name','Enrolled_ID','Year']).agg(ELE= ('ELE','sum'),FYP= ('FYP','sum'),MME= ('MME','sum'),\n",
    "                                                          Lec_Attended_Percentage= ('Lec_Attended_Percentage','mean')).reset_index()\n",
    "else: \n",
    "    print(\"Invalid Input\")\n",
    "\n",
    "print(f\"Branch is {branch_name}\")\n",
    "# print(year_df.head())\n",
    "        \n",
    "    \n",
    "\n",
    "\n",
    "\n"
   ]
  },
  {
   "cell_type": "code",
   "execution_count": 120,
   "id": "be511741",
   "metadata": {},
   "outputs": [],
   "source": [
    "# ploting a bar chat for defaulter list on percentage basis & Edu_year\n",
    "\n",
    "defaulter_df = year_df[(year_df['Lec_Attended_Percentage'] < 50) &  (year_df['Year'] == 1)] \n",
    "defaulter_df.plot(x='Name', y=['Lec_Attended_Percentage'], kind='bar',figsize=(10,8),width =0.25) \n",
    "\n",
    "plt.yticks(np.arange(0, 110, 10))\n",
    "plt.grid(color='#95a5a6', linestyle='--', linewidth=2, axis='y', alpha=0.7)\n",
    "plt.title(\"Overall Analysis of EXTC for 1st year students \")\n",
    "plt.legend(loc =\"upper left\")\n",
    "plt.savefig('FY.png', dpi=300, bbox_inches='tight')\n",
    "plt.show()\n"
   ]
  },
  {
   "cell_type": "code",
   "execution_count": null,
   "id": "59e95ca6",
   "metadata": {},
   "outputs": [],
   "source": []
  },
  {
   "cell_type": "markdown",
   "id": "22f2e3b3",
   "metadata": {},
   "source": [
    "# Monthly Defaulter"
   ]
  },
  {
   "cell_type": "code",
   "execution_count": 127,
   "id": "16f01e5e",
   "metadata": {},
   "outputs": [
    {
     "name": "stdout",
     "output_type": "stream",
     "text": [
      "Enter month_no.(2 to 6) :5\n",
      "Enter Branch Name(IT or MECH) :MECH\n"
     ]
    }
   ],
   "source": [
    "def monthwise_branch_data(student_df,branch_name, month_no ):\n",
    "    ''' NaN to Zero '''\n",
    "    student_df = student_df.fillna(0)\n",
    "#     print(student_df.head())\n",
    "    \n",
    "    student_df['Month'] = pd.DatetimeIndex(student_df['Date']).month      # converting date to month\n",
    "\n",
    "    ''' Filtering Data'''\n",
    "\n",
    "    # selecting rows based on condition\n",
    "    month_df = student_df.loc[(student_df['Month'] == int(month_no)) & student_df['Branch']]\n",
    "    month_df = month_df.loc[:, (month_df != 0).any(axis=0)]\n",
    "    month_df = month_df.loc[(month_df['Branch'] == branch_name)]    \n",
    "    return  month_df\n",
    "\n",
    "student_df = pd.read_csv('E:/FYND/Final Project/Data Creation/student.csv')\n",
    "\n",
    "month_no = int(input(\"Enter month_no.(2 to 6) :\"))\n",
    "branch_name = str(input(\"Enter Branch Name(IT or MECH) :\"))\n",
    "\n",
    "if branch_name == \"IT\":\n",
    "    month_df  =   monthwise_branch_data(student_df,branch_name, month_no)  \n",
    "    month_df = month_df.groupby(['Name','Enrolled_ID','Year','Month']).agg(M1= ('M1','sum'), CP= ('CP','sum'), \n",
    "                                                BEE= ('BEE','sum'), M3= ('M3','sum'), \n",
    "                                                Logic_Design= ('Logic_Design','sum'),DMS= ('DMS','sum'),\n",
    "                                                DS= ('DS','sum'), DBA= ('DBA','sum'), OS= ('OS','sum'), \n",
    "                                                OOPs= ('OOPs','sum'), M4= ('M4','sum'), LMS= ('LMS','sum'), \n",
    "                                                Lec_Attended_Percentage= ('Lec_Attended_Percentage','mean')).reset_index()\n",
    "elif branch_name == \"MECH\":\n",
    "    month_df  =   monthwise_branch_data(student_df,branch_name, month_no)  \n",
    "    month_df = month_df.groupby(['Name','Enrolled_ID','Month','Year','M1']).agg( CP= ('CP','sum'),\n",
    "                                                           BEE= ('BEE','sum'), M3= ('M3','sum'),\n",
    "                                                           SOM= ('SOM','sum'), THERMO= ('THERMO','sum'),\n",
    "                                                           HT= ('HT','sum'), DESIGN= ('DESIGN','sum'),\n",
    "                                                           MANU= ('MANU','sum'), MD= ('MD','sum'),\n",
    "                                                           IE= ('IE','sum'), PPE= ('PPE','sum'),\n",
    "                                                           Lec_Attended_Percentage= ('Lec_Attended_Percentage','mean')).reset_index()\n",
    "\n",
    "\n",
    "# print(month_df.head())\n",
    "\n"
   ]
  },
  {
   "cell_type": "code",
   "execution_count": 121,
   "id": "b66ff4dc",
   "metadata": {},
   "outputs": [],
   "source": [
    "# ploting a bar chat for defaulter list on percentage basis & Monthly\n",
    "\n",
    "defaulter_df = month_df[(month_df['Lec_Attended_Percentage'] < 45) &  (month_df['Year'] == 4)] \n",
    "defaulter_df.plot(x='Name', y=['Lec_Attended_Percentage'], kind='bar',figsize=(10,8),width =0.25) \n",
    "\n",
    "plt.yticks(np.arange(0, 110, 10))\n",
    "plt.grid(color='#95a5a6', linestyle='--', linewidth=2, axis='y', alpha=0.7)\n",
    "plt.title(\"Overall Analysis of IT for 3rd month of 4th year\")\n",
    "plt.legend(loc =\"upper left\")\n",
    "plt.savefig('TMFoY.png', dpi=300, bbox_inches='tight')\n",
    "plt.show()"
   ]
  },
  {
   "cell_type": "code",
   "execution_count": null,
   "id": "2f7de602",
   "metadata": {},
   "outputs": [],
   "source": []
  },
  {
   "cell_type": "markdown",
   "id": "6b9677d4",
   "metadata": {},
   "source": [
    "# Weekly Defaulter"
   ]
  },
  {
   "cell_type": "code",
   "execution_count": 128,
   "id": "a01eae77",
   "metadata": {
    "scrolled": true
   },
   "outputs": [
    {
     "name": "stdout",
     "output_type": "stream",
     "text": [
      "Enter week_no.(5 to 22) :5\n",
      "Enter Branch Name(COMPS or MECH ) :COMPS\n"
     ]
    }
   ],
   "source": [
    "def weekwise_branch_data(student_df,branch_name, week_no ):\n",
    "    ''' NaN to Zero '''\n",
    "    student_df = student_df.fillna(0)\n",
    "    \n",
    "    student_df['Date'] = pd.to_datetime(student_df['Date'], errors='coerce')\n",
    "    student_df['Week_Number'] = (student_df['Date']).dt.isocalendar().week       # converting date to week\n",
    "\n",
    "    ''' Filtering Data'''\n",
    "\n",
    "\n",
    "    # selecting rows based on condition\n",
    "    week_df = student_df.loc[(student_df['Week_Number'] == int(week_no)) & student_df['Branch']]\n",
    "    week_df = week_df.loc[:, (week_df != 0).any(axis=0)]\n",
    "    week_df = week_df.loc[(week_df['Branch'] == branch_name)]    \n",
    "    return  week_df\n",
    "\n",
    "student_df = pd.read_csv('E:/FYND/Final Project/Data Creation/student.csv')\n",
    "\n",
    "week_no = int(input(\"Enter week_no.(5 to 22) :\"))\n",
    "branch_name = str(input(\"Enter Branch Name(COMPS or MECH ) :\"))\n",
    "\n",
    "if branch_name == \"COMPS\":\n",
    "    week_df  =   weekwise_branch_data(student_df,branch_name, week_no )\n",
    "    week_df = (week_df.groupby(['Name','Enrolled_ID','Year','Week_Number']).agg(M1= ('M1','sum'), CP= ('CP','sum'), \n",
    "                                                BEE= ('BEE','sum'), M3= ('M3','sum'), \n",
    "                                                DBR= ('DBR','sum'),DSA= ('DSA','sum'),\n",
    "                                                WEB= ('WEB','sum'), DMS= ('DMS','sum'), OOPs= ('OOPs','sum'), \n",
    "                                                LLE= ('LLE','sum'), DIGITAL= ('DIGITAL','sum'),\n",
    "                                                Lec_Attended_Percentage= ('Lec_Attended_Percentage','mean'))).reset_index()\n",
    "elif branch_name == \"MECH\":\n",
    "    week_df  =   weekwise_branch_data(student_df,branch_name, week_no )\n",
    "    week_df= (week_df.groupby(['Name','Enrolled_ID','Week_Number','Year']).agg(M1= ('M1','sum'), CP= ('CP','sum'),\n",
    "                                                           BEE= ('BEE','sum'), M3= ('M3','sum'),\n",
    "                                                           SOM= ('SOM','sum'), THERMO= ('THERMO','sum'),\n",
    "                                                           HT= ('HT','sum'), DESIGN= ('DESIGN','sum'),\n",
    "                                                           MANU= ('MANU','sum'), MD= ('MD','sum'),\n",
    "                                                           IE= ('IE','sum'), PPE= ('PPE','sum'),\n",
    "                                                           Lec_Attended_Percentage= ('Lec_Attended_Percentage','mean'))).reset_index()\n",
    "\n",
    "\n",
    "\n",
    "\n",
    "# print(week_df.head())\n"
   ]
  },
  {
   "cell_type": "code",
   "execution_count": 122,
   "id": "c1f51f10",
   "metadata": {},
   "outputs": [],
   "source": [
    "# ploting a bar chat for defaulter list on percentage basis & Weekly\n",
    "\n",
    "defaulter_df = week_df[(week_df['Lec_Attended_Percentage'] < 45) &  (week_df['Year'] == 2)] \n",
    "# print(defaulter_df.head())\n",
    "defaulter_df.plot(x='Name', y=['Lec_Attended_Percentage'], kind='bar',figsize=(10,8),width =0.25) \n",
    "\n",
    "plt.yticks(np.arange(0, 110, 10))\n",
    "plt.grid(color='#95a5a6', linestyle='--', linewidth=2, axis='y', alpha=0.7)\n",
    "plt.title(\"Weekly analysis of COMPS for week1 of 2nd year \")\n",
    "plt.legend(loc =\"upper left\")\n",
    "plt.savefig('W1SY.png', dpi=300, bbox_inches='tight')\n",
    "plt.show()\n"
   ]
  },
  {
   "cell_type": "code",
   "execution_count": null,
   "id": "fef69dce",
   "metadata": {},
   "outputs": [],
   "source": []
  },
  {
   "cell_type": "markdown",
   "id": "b63b0d7a",
   "metadata": {},
   "source": [
    "# Subjectwise Monthly Defaulter"
   ]
  },
  {
   "cell_type": "code",
   "execution_count": 129,
   "id": "9278dcf7",
   "metadata": {},
   "outputs": [
    {
     "name": "stdout",
     "output_type": "stream",
     "text": [
      "              Name  Month     M3   SOM  THERMO  Total no.of Lec\n",
      "0  Adrienne Porath      2   65.0  50.0    45.0               60\n",
      "1  Adrienne Porath      3   39.0  43.0    43.0               69\n",
      "2  Adrienne Porath      4   59.0  45.0    55.0               66\n",
      "3  Adrienne Porath      5   57.0  57.0    62.0               63\n",
      "4  Adrienne Porath      6  100.0  50.0   100.0                6\n"
     ]
    }
   ],
   "source": [
    "student_df['Month'] = pd.DatetimeIndex(student_df['Date']).month                # converting date to month\n",
    "\n",
    "defaulter_df = student_df[(student_df['Year'] == 2) &  (student_df['Branch'] == 'MECH')]\n",
    "defaulter_df = defaulter_df.loc[:, (defaulter_df != 0).any(axis=0)]\n",
    "\n",
    "sub_df= defaulter_df.groupby(['Name', 'Month'])[[\"M3\",\"SOM\",\"THERMO\",\"Total no.of Lec\"]].sum().reset_index()\n",
    "sub_df['M3'] = round((sub_df['M3']/sub_df['Total no.of Lec']).multiply(300))\n",
    "sub_df['SOM'] = round((sub_df['SOM']/sub_df['Total no.of Lec']).multiply(300))\n",
    "sub_df['THERMO'] = round((sub_df['THERMO']/sub_df['Total no.of Lec']).multiply(300))\n",
    "# print(sub_df.head())"
   ]
  },
  {
   "cell_type": "code",
   "execution_count": 130,
   "id": "9a22a847",
   "metadata": {},
   "outputs": [
    {
     "data": {
      "image/png": "[encoded data removed]",
      "text/plain": [
       "<Figure size 1080x720 with 1 Axes>"
      ]
     },
     "metadata": {
      "needs_background": "light"
     },
     "output_type": "display_data"
    }
   ],
   "source": [
    "# ploting a bar chat for defaulter list on percentage basis & Subjectwise \n",
    "\n",
    "defaulter_df = sub_df[(sub_df['M3'] < 45) &  (sub_df['Month'] == 2)] \n",
    "defaulter_df.plot(x='Name', y=['SOM','THERMO','M3'], kind='bar',figsize=(15,10),width =0.5) \n",
    "\n",
    "plt.yticks(np.arange(0, 110, 10))\n",
    "plt.grid(color='#95a5a6', linestyle='--', linewidth=2, axis='y', alpha=0.7)\n",
    "plt.title(\"Overall Monthly Analysis of MECH for Subject SOM\")\n",
    "plt.legend(loc =\"upper left\")\n",
    "plt.savefig('M31.png', dpi=300, bbox_inches='tight')\n",
    "plt.show()"
   ]
  },
  {
   "cell_type": "code",
   "execution_count": null,
   "id": "fa1c16cd",
   "metadata": {},
   "outputs": [],
   "source": []
  }
 ],
 "metadata": {
  "kernelspec": {
   "display_name": "Python 3",
   "language": "python",
   "name": "python3"
  },
  "language_info": {
   "codemirror_mode": {
    "name": "ipython",
    "version": 3
   },
   "file_extension": ".py",
   "mimetype": "text/x-python",
   "name": "python",
   "nbconvert_exporter": "python",
   "pygments_lexer": "ipython3",
   "version": "3.8.8"
  }
 },
 "nbformat": 4,
 "nbformat_minor": 5
}
